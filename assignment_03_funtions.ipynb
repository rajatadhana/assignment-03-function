{
  "nbformat": 4,
  "nbformat_minor": 0,
  "metadata": {
    "colab": {
      "provenance": []
    },
    "kernelspec": {
      "name": "python3",
      "display_name": "Python 3"
    },
    "language_info": {
      "name": "python"
    }
  },
  "cells": [
    {
      "cell_type": "markdown",
      "source": [
        "# **ASSIGNMENT 03: FUNCTIONS**"
      ],
      "metadata": {
        "id": "_s8bcmDtMgKN"
      }
    },
    {
      "cell_type": "markdown",
      "source": [
        " 1. What is the difference between a function and a method in Python?\n",
        "-  In Python, a **function** is a block of reusable code that performs a specific task and is defined using the `def` keyword. It can be called independently by its name and may take zero or more arguments. Functions are not tied to any object or class, making them more general-purpose. For example, the built-in `len()` function or a custom function like `def add(x, y): return x + y` can be used anywhere in your code.\n",
        "On the other hand, a **method** is also a function, but it is associated with an object and defined within a class. Methods operate on the data that belongs to the class (its attributes) and are called using the dot `.` operator on an instance of the class. They always take `self` as their first parameter, which refers to the instance calling the method. For example, `\"hello\".upper()` is a method call on a string object.\n",
        "\n",
        " 2. Explain the concept of function arguments and parameters in Python.\n",
        "- In Python, **parameters** and **arguments** are terms used when working with functions, and while they are often used interchangeably, they have distinct meanings.\n",
        "\n",
        "A **parameter** is a variable listed inside the parentheses in the function definition. It acts as a placeholder for the values that the function will receive when it is called. On the other hand, an **argument** is the actual value that is passed to the function when it is invoked.\n",
        "\n",
        "For example, in the function definition `def greet(name):`, `name` is a parameter. When you call the function with `greet(\"Alice\")`, the string `\"Alice\"` is the argument.\n",
        "\n",
        "Python supports different types of arguments:\n",
        "\n",
        "* **Positional arguments** (matched by position),\n",
        "* **Keyword arguments** (matched by name),\n",
        "* **Default arguments** (have a default value),\n",
        "* **Variable-length arguments** using `*args` (for multiple positional arguments) and `**kwargs` (for multiple keyword arguments).\n",
        "\n",
        "This flexibility allows Python functions to handle a wide variety of input scenarios efficiently. In essence, parameters are like empty boxes waiting to be filled, and arguments are the actual items you put into those boxes when you use the function.\n",
        "\n",
        " 3. What are the different ways to define and call a function in Python?\n",
        "- In Python, functions can be defined and called in several ways depending on the use case. Here's a paragraph-style explanation covering the common types:\n",
        "\n",
        "To define a function in Python, you use the `def` keyword followed by the function name and parentheses, which may include parameters. For example, `def greet(name):` defines a simple function with one parameter. Functions can be called using their name followed by parentheses and appropriate arguments, like `greet(\"Alice\")`. Python also supports functions with **default arguments**, which means you can provide a default value in the definition (e.g., `def greet(name=\"Guest\"):`), and call the function with or without that argument. Additionally, you can use **keyword arguments** when calling a function by specifying parameter names (`greet(name=\"Bob\")`) to make the code more readable.\n",
        "\n",
        "Python also allows **variable-length arguments** using `*args` for positional arguments and `**kwargs` for keyword arguments, allowing functions to accept an arbitrary number of inputs. Another way to define a function is by using **lambda expressions**, which are anonymous functions defined in a single line, such as `lambda x: x * 2`. These are often used for short, simple operations and are commonly passed as arguments to functions like `map()` or `filter()`.\n",
        "\n",
        "Altogether, Python’s function system is highly flexible, supporting multiple ways to define and call functions, making code modular and reusable.\n",
        "\n",
        " 4. What is the purpose of the `return` statement in a Python function?\n",
        "- The `return` statement in a Python function is used to **send a result back to the caller** of the function. When a function is called, it can perform a series of operations, and the `return` statement allows it to output a value or multiple values as the result of those operations.\n",
        "\n",
        "Without a `return` statement, a function will return `None` by default, meaning it performs its task but doesn't give anything back. The value returned by `return` can then be stored in a variable, printed, or used in further calculations. For example, in the function `def add(x, y): return x + y`, the `return` sends back the sum of `x` and `y` to wherever the function was called. You can also return multiple values as a tuple, like `return a, b`, or use `return` without a value to exit the function early.\n",
        "\n",
        "In short, the `return` statement is essential when you want a function to produce a result that can be reused or stored elsewhere in your program.\n",
        "\n",
        "\n",
        " 5. What are iterators in Python and how do they differ from iterables?\n",
        "- In Python, **iterables** and **iterators** are closely related but different concepts used in looping and data traversal.\n",
        "\n",
        "An **iterable** is any object that can return its elements one at a time. Common examples of iterables include lists, tuples, strings, sets, and dictionaries. These objects can be used in a `for` loop because they implement the `__iter__()` method, which returns an **iterator**.\n",
        "\n",
        "An **iterator**, on the other hand, is an object that keeps track of where it is in a sequence and knows how to fetch the next value using the `__next__()` method. Once the iterator reaches the end of the sequence, calling `next()` raises a `StopIteration` exception. Iterators are produced from iterables using the `iter()` function.\n",
        "\n",
        "Here's the difference in simple terms: **iterables** are like books (which can be read multiple times), while **iterators** are like bookmarks (which help you read through a book one page at a time, and once you're done, you can't go back unless you start over with a new bookmark).\n",
        "\n",
        "For example:\n",
        "\n",
        "```python\n",
        "nums = [1, 2, 3]          # This is an iterable\n",
        "it = iter(nums)           # This is an iterator\n",
        "print(next(it))           # Outputs: 1\n",
        "print(next(it))           # Outputs: 2\n",
        "```\n",
        "\n",
        "In summary, **iterables can be looped over**, and **iterators do the actual looping**, maintaining the current state and moving through the elements one by one.\n",
        "\n",
        " 6. Explain the concept of generators in Python and how they are defined.\n",
        "- In Python, **generators** are a special type of iterator that allow you to **generate values on the fly** instead of storing them all in memory at once. They are useful for working with large datasets or infinite sequences because they produce values **lazily**, meaning one at a time as needed.\n",
        "\n",
        "Generators are defined using a **function with the `yield` keyword** instead of `return`. Each time the generator function is called (using `next()`), execution resumes from the last `yield` statement, preserving the function’s local state. This makes them memory-efficient and ideal for iteration-heavy tasks.\n",
        "\n",
        "Here's a simple example of a generator:\n",
        "\n",
        "```python\n",
        "def count_up_to(n):\n",
        "    i = 1\n",
        "    while i <= n:\n",
        "        yield i\n",
        "        i += 1\n",
        "```\n",
        "\n",
        "Calling `count_up_to(5)` returns a generator object. You can loop through it using a `for` loop or manually get values using `next()`.\n",
        "\n",
        "Generators can also be created using **generator expressions**, which are similar to list comprehensions but use parentheses:\n",
        "\n",
        "```python\n",
        "squares = (x * x for x in range(5))\n",
        "```\n",
        "\n",
        "In summary, generators are a powerful tool in Python for **efficient, on-demand value generation**, especially when dealing with large or infinite sequences. They differ from normal functions by using `yield` and from lists by not holding all values in memory.\n",
        "\n",
        " 7. What are the advantages of using generators over regular functions?\n",
        "Generators offer several key advantages over regular functions, especially when working with large data sets or streams of data. Here's a paragraph-style explanation:\n",
        "\n",
        "One of the biggest advantages of using **generators** over regular functions is **memory efficiency**. Regular functions that return large data sets (like lists) must load all elements into memory at once, which can be expensive or even impossible for large or infinite sequences. Generators, on the other hand, use the `yield` keyword to produce values **one at a time**, only when needed, which greatly reduces memory usage. Another advantage is **lazy evaluation**—generators don’t compute all values upfront but instead generate them on-the-fly, making programs faster and more responsive, especially when only a portion of the data is needed. Generators also help write **cleaner, more readable code** when dealing with complex iteration logic, such as reading files line by line or processing streams of input. Finally, because generators maintain their state between iterations, they are ideal for tasks that involve **pausing and resuming execution**, making them useful for pipelines, coroutines, and asynchronous programming.\n",
        "\n",
        "In summary, generators are advantageous for saving memory, improving performance, simplifying code, and handling continuous or large-scale data efficiently.\n",
        "\n",
        "\n",
        "8. What is a lambda function in Python and when is it typically used?\n",
        "- A **lambda function** in Python is a small, anonymous function defined using the `lambda` keyword instead of `def`. It can have any number of arguments but only one expression. The result of that expression is automatically returned. Lambda functions are often used for **short, simple operations** where defining a full function using `def` would be unnecessary or make the code less concise.\n",
        "\n",
        "The basic syntax is:\n",
        "\n",
        "```python\n",
        "lambda arguments: expression\n",
        "```\n",
        "\n",
        "For example:\n",
        "\n",
        "```python\n",
        "square = lambda x: x * x\n",
        "print(square(5))  # Output: 25\n",
        "```\n",
        "\n",
        "Lambda functions are typically used in situations where a function is needed temporarily, especially as arguments to higher-order functions like `map()`, `filter()`, and `sorted()`. For example, to sort a list of tuples by the second element, you might use:\n",
        "\n",
        "```python\n",
        "sorted_list = sorted(my_list, key=lambda x: x[1])\n",
        "```\n",
        "\n",
        "In summary, lambda functions are best used for **quick, throwaway functions** that are simple enough to be written in one line, enhancing code brevity and clarity in appropriate contexts.\n",
        "\n",
        " 9. Explain the purpose and usage of the `map()` function in Python.\n",
        "- The `map()` function in Python is used to **apply a function to every item in an iterable** (like a list, tuple, or set) and return a new iterator with the results. Its purpose is to simplify and streamline the process of transforming data by eliminating the need for explicit loops.\n",
        "\n",
        "The basic syntax is:\n",
        "\n",
        "```python\n",
        "map(function, iterable)\n",
        "```\n",
        "\n",
        "The `function` is applied to each element of the `iterable`, and the result is a `map` object (an iterator), which can be converted to a list or another iterable type using `list()`, `tuple()`, etc.\n",
        "\n",
        "### Example:\n",
        "\n",
        "```python\n",
        "def square(x):\n",
        "    return x * x\n",
        "\n",
        "numbers = [1, 2, 3, 4]\n",
        "squared = map(square, numbers)\n",
        "print(list(squared))  # Output: [1, 4, 9, 16]\n",
        "```\n",
        "\n",
        "You can also use a **lambda function** with `map()` to make it more concise:\n",
        "\n",
        "```python\n",
        "print(list(map(lambda x: x + 10, [1, 2, 3])))  # Output: [11, 12, 13]\n",
        "```\n",
        "\n",
        "In summary, the `map()` function is useful for **efficiently transforming** each element in a collection without writing explicit loops, making your code **cleaner and more functional in style**.\n",
        "\n",
        " 10. What is the difference between `map()`, `reduce()`, and `filter()` functions in Python?\n",
        "- Sure! Here's a short summary:\n",
        "\n",
        "* **`map()`**: Applies a function to **each item** in an iterable.\n",
        "  👉 Used for **transformation**.\n",
        "  → `map(lambda x: x * 2, [1, 2, 3])` → `[2, 4, 6]`\n",
        "\n",
        "* **`filter()`**: Applies a function to **filter items** based on a condition.\n",
        "  👉 Used for **selection**.\n",
        "  → `filter(lambda x: x % 2 == 0, [1, 2, 3, 4])` → `[2, 4]`\n",
        "\n",
        "* **`reduce()`**: Applies a function to **combine items into one result**.\n",
        "  👉 Used for **aggregation**.\n",
        "  → `reduce(lambda x, y: x + y, [1, 2, 3, 4])` → `10`\n",
        "\n",
        "All return iterators and work on iterables.\n",
        "\n",
        "\n",
        "\n",
        "11. Using pen & Paper write the internal mechanism for sum operation using  reduce function on this given list[47,11,42,13];\n",
        "\n",
        "\n"
      ],
      "metadata": {
        "id": "8ZPjp2brMsvM"
      }
    },
    {
      "cell_type": "markdown",
      "source": [
        "![main assignment picture.jpg](data:image/jpeg;base64,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)"
      ],
      "metadata": {
        "id": "I3uRpHpzjT4O"
      }
    },
    {
      "cell_type": "markdown",
      "source": [
        "# **PRACTICAL QUESTIONS**"
      ],
      "metadata": {
        "id": "hb0GBj6zQP-a"
      }
    },
    {
      "cell_type": "markdown",
      "source": [
        " 1. Write a Python function that takes a list of numbers as input and returns the sum of all even numbers in the list.\n"
      ],
      "metadata": {
        "id": "eCddOU7QQrfa"
      }
    },
    {
      "cell_type": "code",
      "execution_count": null,
      "metadata": {
        "id": "XyUn6lQ9MelW"
      },
      "outputs": [],
      "source": [
        "def sum_of_even_numbers(numbers):\n",
        "    even_sum = 0\n",
        "    for num in numbers:\n",
        "        if num % 2 == 0:\n",
        "            even_sum += num\n",
        "    return even_sum\n"
      ]
    },
    {
      "cell_type": "markdown",
      "source": [
        " 2. Create a Python function that accepts a string and returns the reverse of that string.\n"
      ],
      "metadata": {
        "id": "utP-zFu7Q9WE"
      }
    },
    {
      "cell_type": "code",
      "source": [
        "def reverse_string(text):\n",
        "    return text[::-1]\n"
      ],
      "metadata": {
        "id": "k-XJsJDVQ7Ro"
      },
      "execution_count": null,
      "outputs": []
    },
    {
      "cell_type": "markdown",
      "source": [
        " 3. Implement a Python function that takes a list of integers and returns a new list containing the squares of each numbers.\n"
      ],
      "metadata": {
        "id": "lGiHq49RRGru"
      }
    },
    {
      "cell_type": "code",
      "source": [
        "def square_list(numbers):\n",
        "    return [x ** 2 for x in numbers]\n"
      ],
      "metadata": {
        "id": "xTfvYP4BRFyc"
      },
      "execution_count": null,
      "outputs": []
    },
    {
      "cell_type": "markdown",
      "source": [
        " 4. Write a Python function that checks if a given number is prime or not from 1 to 200.\n"
      ],
      "metadata": {
        "id": "kKbzS05pRTPk"
      }
    },
    {
      "cell_type": "code",
      "source": [
        "def is_prime(n):\n",
        "    if n <= 1:\n",
        "        return False\n",
        "    for i in range(2, int(n ** 0.5) + 1):\n",
        "        if n % i == 0:\n",
        "            return False\n",
        "    return True\n"
      ],
      "metadata": {
        "id": "Xmw5ZIwgRShB"
      },
      "execution_count": null,
      "outputs": []
    },
    {
      "cell_type": "markdown",
      "source": [
        " 5. Create an iterator class in Python that generates the Fibonacci sequence up to a specified number of terms\n"
      ],
      "metadata": {
        "id": "62LL4tj1RfC6"
      }
    },
    {
      "cell_type": "code",
      "source": [
        "class FibonacciIterator:\n",
        "    def __init__(self, max_terms):\n",
        "        self.max_terms = max_terms\n",
        "        self.count = 0\n",
        "        self.a, self.b = 0, 1\n",
        "\n",
        "    def __iter__(self):\n",
        "        return self\n",
        "\n",
        "    def __next__(self):\n",
        "        if self.count >= self.max_terms:\n",
        "            raise StopIteration\n",
        "        if self.count == 0:\n",
        "            self.count += 1\n",
        "            return 0\n",
        "        elif self.count == 1:\n",
        "            self.count += 1\n",
        "            return 1\n",
        "        else:\n",
        "            self.count += 1\n",
        "            self.a, self.b = self.b, self.a + self.b\n",
        "            return self.a\n"
      ],
      "metadata": {
        "id": "RVFB9-22RcmQ"
      },
      "execution_count": null,
      "outputs": []
    },
    {
      "cell_type": "markdown",
      "source": [
        " 6. Write a generator function in Python that yields the powers of 2 up to a given exponent.\n"
      ],
      "metadata": {
        "id": "T6FQ1MBBR0sf"
      }
    },
    {
      "cell_type": "code",
      "source": [
        "def powers_of_two(max_exponent):\n",
        "    for i in range(max_exponent + 1):\n",
        "        yield 2 ** i\n"
      ],
      "metadata": {
        "id": "32JsZtOrRyt1"
      },
      "execution_count": null,
      "outputs": []
    },
    {
      "cell_type": "markdown",
      "source": [
        " 7. Implement a generator function that reads a file line by line and yields each line as a string.\n"
      ],
      "metadata": {
        "id": "Q5RZLLp7SCTH"
      }
    },
    {
      "cell_type": "code",
      "source": [
        "def read_file_lines(filename):\n",
        "    with open(filename, 'r') as file:\n",
        "        for line in file:\n",
        "            yield line.strip()  # .strip() removes leading/trailing whitespace\n",
        "\n",
        "\n"
      ],
      "metadata": {
        "id": "p2chL_erR8ro"
      },
      "execution_count": null,
      "outputs": []
    },
    {
      "cell_type": "markdown",
      "source": [
        " 8. Use a lambda function in Python to sort a list of tuples based on the second element of each tuple.\n"
      ],
      "metadata": {
        "id": "mXFM3LcTSVka"
      }
    },
    {
      "cell_type": "code",
      "source": [
        "my_list = [(1, 4), (2, 1), (3, 3), (4, 2)]\n",
        "sorted_list = sorted(my_list, key=lambda x: x[1])\n",
        "print(sorted_list)\n"
      ],
      "metadata": {
        "colab": {
          "base_uri": "https://localhost:8080/"
        },
        "id": "k7RPsrzFSS8S",
        "outputId": "3cc58594-5385-4951-c4f0-80907a98ebd8"
      },
      "execution_count": null,
      "outputs": [
        {
          "output_type": "stream",
          "name": "stdout",
          "text": [
            "[(2, 1), (4, 2), (3, 3), (1, 4)]\n"
          ]
        }
      ]
    },
    {
      "cell_type": "markdown",
      "source": [
        " 9. Write a Python program that uses `map()` to convert a list of temperatures from Celsius to Fahrenheit.\n"
      ],
      "metadata": {
        "id": "3hKULwVoSeLf"
      }
    },
    {
      "cell_type": "code",
      "source": [
        "# List of temperatures in Celsius\n",
        "celsius = [0, 20, 37, 100]\n",
        "\n",
        "# Convert to Fahrenheit using map + lambda\n",
        "fahrenheit = list(map(lambda c: (c * 9/5) + 32, celsius))\n",
        "\n",
        "print(f\"Temperatures in Fahrenheit: {fahrenheit}\")\n"
      ],
      "metadata": {
        "colab": {
          "base_uri": "https://localhost:8080/"
        },
        "id": "NdjGKQzgSbCJ",
        "outputId": "e2539819-4fd1-46c9-c260-6363eed4a270"
      },
      "execution_count": null,
      "outputs": [
        {
          "output_type": "stream",
          "name": "stdout",
          "text": [
            "Temperatures in Fahrenheit: [32.0, 68.0, 98.6, 212.0]\n"
          ]
        }
      ]
    },
    {
      "cell_type": "markdown",
      "source": [
        " 10. Create a Python program that uses `filter()` to remove all the vowels from a given string.\n"
      ],
      "metadata": {
        "id": "0CSmL7AJSru6"
      }
    },
    {
      "cell_type": "code",
      "source": [
        "def remove_vowels(text):\n",
        "    vowels = 'aeiouAEIOU'\n",
        "    return ''.join(filter(lambda char: char not in vowels, text))\n",
        "\n",
        "# Example usage\n",
        "input_str = \"Hello, World!\"\n",
        "result = remove_vowels(input_str)\n",
        "print(\"String without vowels:\", result)\n"
      ],
      "metadata": {
        "colab": {
          "base_uri": "https://localhost:8080/"
        },
        "id": "p4RPeezASL04",
        "outputId": "017dba6c-131c-461e-f80f-2a8ad6075cbc"
      },
      "execution_count": null,
      "outputs": [
        {
          "output_type": "stream",
          "name": "stdout",
          "text": [
            "String without vowels: Hll, Wrld!\n"
          ]
        }
      ]
    },
    {
      "cell_type": "markdown",
      "source": [
        "11) Imagine an accounting routine used in a book shop. It works on a list with sublists, which look like this:\n",
        " Write a Python program, which returns a list with 2-tuples. Each tuple consists of the order number and the\n",
        "product of the price per item and the quantity. The product should be increased by 10,- € if the value of the\n",
        "order is smaller than 100,00 €.\n",
        " Write a Python program using lambda and map."
      ],
      "metadata": {
        "id": "J0ddXPhhS3q0"
      }
    },
    {
      "cell_type": "code",
      "source": [
        "orders = [\n",
        "    [34587, \"Learning Python, Mark Lutz\", 4, 40.95],\n",
        "    [98762, \"Programming Python, Mark Lutz\", 5, 56.80],\n",
        "    [77226, \"Head First Python, Paul Barry\", 3, 32.95],\n",
        "    [88112, \"Einführung in Python3, Bernd Klein\", 3, 24.99]\n",
        "]\n",
        "\n",
        "# Using lambda and map\n",
        "result = list(map(lambda order: (\n",
        "    order[0],\n",
        "    round(order[2] * order[3] + (10 if order[2] * order[3] < 100 else 0), 2)\n",
        "), orders))\n",
        "\n",
        "print(result)\n"
      ],
      "metadata": {
        "colab": {
          "base_uri": "https://localhost:8080/"
        },
        "id": "1KmM6UWvSyi-",
        "outputId": "7a8f0286-43ba-433c-baf0-3369f1b86ddb"
      },
      "execution_count": null,
      "outputs": [
        {
          "output_type": "stream",
          "name": "stdout",
          "text": [
            "[(34587, 163.8), (98762, 284.0), (77226, 108.85), (88112, 84.97)]\n"
          ]
        }
      ]
    }
  ]
}